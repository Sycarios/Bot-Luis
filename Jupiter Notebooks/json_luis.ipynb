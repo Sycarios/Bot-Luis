{
 "cells": [
  {
   "cell_type": "markdown",
   "id": "7c571d93",
   "metadata": {},
   "source": [
    "# Modify json for our application\n"
   ]
  },
  {
   "cell_type": "code",
   "execution_count": 93,
   "id": "726ec1df",
   "metadata": {},
   "outputs": [
    {
     "name": "stdout",
     "output_type": "stream",
     "text": [
      "Requirement already satisfied: azure in c:\\users\\django\\appdata\\local\\programs\\python\\python310\\lib\\site-packages (4.0.0)\n",
      "Requirement already satisfied: azure-graphrbac~=0.40.0 in c:\\users\\django\\appdata\\local\\programs\\python\\python310\\lib\\site-packages (from azure) (0.40.0)\n",
      "Requirement already satisfied: azure-eventgrid~=1.1 in c:\\users\\django\\appdata\\local\\programs\\python\\python310\\lib\\site-packages (from azure) (1.3.0)\n",
      "Requirement already satisfied: azure-loganalytics~=0.1.0 in c:\\users\\django\\appdata\\local\\programs\\python\\python310\\lib\\site-packages (from azure) (0.1.1)\n",
      "Requirement already satisfied: azure-servicemanagement-legacy~=0.20.6 in c:\\users\\django\\appdata\\local\\programs\\python\\python310\\lib\\site-packages (from azure) (0.20.7)\n",
      "Requirement already satisfied: azure-servicebus~=0.21.1 in c:\\users\\django\\appdata\\local\\programs\\python\\python310\\lib\\site-packages (from azure) (0.21.1)\n",
      "Requirement already satisfied: azure-storage-queue~=1.3 in c:\\users\\django\\appdata\\local\\programs\\python\\python310\\lib\\site-packages (from azure) (1.4.0)\n",
      "Requirement already satisfied: azure-storage-file~=1.3 in c:\\users\\django\\appdata\\local\\programs\\python\\python310\\lib\\site-packages (from azure) (1.4.0)\n",
      "Requirement already satisfied: azure-cosmosdb-table~=1.0 in c:\\users\\django\\appdata\\local\\programs\\python\\python310\\lib\\site-packages (from azure) (1.0.6)\n",
      "Requirement already satisfied: azure-mgmt~=4.0 in c:\\users\\django\\appdata\\local\\programs\\python\\python310\\lib\\site-packages (from azure) (4.0.0)\n",
      "Requirement already satisfied: azure-keyvault~=1.0 in c:\\users\\django\\appdata\\local\\programs\\python\\python310\\lib\\site-packages (from azure) (1.1.0)\n",
      "Requirement already satisfied: azure-batch~=4.1 in c:\\users\\django\\appdata\\local\\programs\\python\\python310\\lib\\site-packages (from azure) (4.1.3)\n",
      "Requirement already satisfied: azure-storage-blob~=1.3 in c:\\users\\django\\appdata\\local\\programs\\python\\python310\\lib\\site-packages (from azure) (1.5.0)\n",
      "Requirement already satisfied: azure-datalake-store~=0.0.18 in c:\\users\\django\\appdata\\local\\programs\\python\\python310\\lib\\site-packages (from azure) (0.0.52)\n",
      "Requirement already satisfied: azure-applicationinsights~=0.1.0 in c:\\users\\django\\appdata\\local\\programs\\python\\python310\\lib\\site-packages (from azure) (0.1.0)\n",
      "Requirement already satisfied: azure-servicefabric~=6.3.0.0 in c:\\users\\django\\appdata\\local\\programs\\python\\python310\\lib\\site-packages (from azure) (6.3.0.0)\n",
      "Requirement already satisfied: azure-nspkg>=2.0.0 in c:\\users\\django\\appdata\\local\\programs\\python\\python310\\lib\\site-packages (from azure-applicationinsights~=0.1.0->azure) (3.0.2)\n",
      "Requirement already satisfied: azure-common~=1.1 in c:\\users\\django\\appdata\\local\\programs\\python\\python310\\lib\\site-packages (from azure-applicationinsights~=0.1.0->azure) (1.1.27)\n",
      "Requirement already satisfied: msrest<2.0.0,>=0.5.4 in c:\\users\\django\\appdata\\local\\programs\\python\\python310\\lib\\site-packages (from azure-applicationinsights~=0.1.0->azure) (0.6.21)\n",
      "Requirement already satisfied: msrestazure<2.0.0,>=0.4.20 in c:\\users\\django\\appdata\\local\\programs\\python\\python310\\lib\\site-packages (from azure-batch~=4.1->azure) (0.6.4)\n",
      "Requirement already satisfied: azure-cosmosdb-nspkg>=2.0.0 in c:\\users\\django\\appdata\\local\\programs\\python\\python310\\lib\\site-packages (from azure-cosmosdb-table~=1.0->azure) (2.0.2)\n",
      "Requirement already satisfied: requests in c:\\users\\django\\appdata\\local\\programs\\python\\python310\\lib\\site-packages (from azure-cosmosdb-table~=1.0->azure) (2.26.0)\n",
      "Requirement already satisfied: cryptography in c:\\users\\django\\appdata\\local\\programs\\python\\python310\\lib\\site-packages (from azure-cosmosdb-table~=1.0->azure) (35.0.0)\n",
      "Requirement already satisfied: python-dateutil in c:\\users\\django\\appdata\\local\\programs\\python\\python310\\lib\\site-packages (from azure-cosmosdb-table~=1.0->azure) (2.8.2)\n",
      "Requirement already satisfied: adal>=0.4.2 in c:\\users\\django\\appdata\\local\\programs\\python\\python310\\lib\\site-packages (from azure-datalake-store~=0.0.18->azure) (1.2.7)\n",
      "Requirement already satisfied: cffi in c:\\users\\django\\appdata\\local\\programs\\python\\python310\\lib\\site-packages (from azure-datalake-store~=0.0.18->azure) (1.15.0)\n",
      "Requirement already satisfied: PyJWT<3,>=1.0.0 in c:\\users\\django\\appdata\\local\\programs\\python\\python310\\lib\\site-packages (from adal>=0.4.2->azure-datalake-store~=0.0.18->azure) (2.3.0)\n",
      "Requirement already satisfied: azure-mgmt-servicefabric~=0.2.0 in c:\\users\\django\\appdata\\local\\programs\\python\\python310\\lib\\site-packages (from azure-mgmt~=4.0->azure) (0.2.0)\n",
      "Requirement already satisfied: azure-mgmt-applicationinsights~=0.1.1 in c:\\users\\django\\appdata\\local\\programs\\python\\python310\\lib\\site-packages (from azure-mgmt~=4.0->azure) (0.1.1)\n",
      "Requirement already satisfied: azure-mgmt-devtestlabs~=2.2 in c:\\users\\django\\appdata\\local\\programs\\python\\python310\\lib\\site-packages (from azure-mgmt~=4.0->azure) (2.2.0)\n",
      "Requirement already satisfied: azure-mgmt-sql~=0.9.1 in c:\\users\\django\\appdata\\local\\programs\\python\\python310\\lib\\site-packages (from azure-mgmt~=4.0->azure) (0.9.1)\n",
      "Requirement already satisfied: azure-mgmt-relay~=0.1.0 in c:\\users\\django\\appdata\\local\\programs\\python\\python310\\lib\\site-packages (from azure-mgmt~=4.0->azure) (0.1.0)\n",
      "Requirement already satisfied: azure-mgmt-datalake-analytics~=0.6.0 in c:\\users\\django\\appdata\\local\\programs\\python\\python310\\lib\\site-packages (from azure-mgmt~=4.0->azure) (0.6.0)\n",
      "Requirement already satisfied: azure-mgmt-recoveryservices~=0.3.0 in c:\\users\\django\\appdata\\local\\programs\\python\\python310\\lib\\site-packages (from azure-mgmt~=4.0->azure) (0.3.0)\n",
      "Requirement already satisfied: azure-mgmt-loganalytics~=0.2.0 in c:\\users\\django\\appdata\\local\\programs\\python\\python310\\lib\\site-packages (from azure-mgmt~=4.0->azure) (0.2.0)\n",
      "Requirement already satisfied: azure-mgmt-containerinstance~=1.0 in c:\\users\\django\\appdata\\local\\programs\\python\\python310\\lib\\site-packages (from azure-mgmt~=4.0->azure) (1.5.0)\n",
      "Requirement already satisfied: azure-mgmt-dns~=2.0 in c:\\users\\django\\appdata\\local\\programs\\python\\python310\\lib\\site-packages (from azure-mgmt~=4.0->azure) (2.1.0)\n",
      "Requirement already satisfied: azure-mgmt-containerservice~=4.2 in c:\\users\\django\\appdata\\local\\programs\\python\\python310\\lib\\site-packages (from azure-mgmt~=4.0->azure) (4.4.0)\n",
      "Requirement already satisfied: azure-mgmt-policyinsights~=0.1.0 in c:\\users\\django\\appdata\\local\\programs\\python\\python310\\lib\\site-packages (from azure-mgmt~=4.0->azure) (0.1.0)\n",
      "Requirement already satisfied: azure-mgmt-monitor~=0.5.2 in c:\\users\\django\\appdata\\local\\programs\\python\\python310\\lib\\site-packages (from azure-mgmt~=4.0->azure) (0.5.2)\n",
      "Requirement already satisfied: azure-mgmt-authorization~=0.50.0 in c:\\users\\django\\appdata\\local\\programs\\python\\python310\\lib\\site-packages (from azure-mgmt~=4.0->azure) (0.50.0)\n",
      "Requirement already satisfied: azure-mgmt-redis~=5.0 in c:\\users\\django\\appdata\\local\\programs\\python\\python310\\lib\\site-packages (from azure-mgmt~=4.0->azure) (5.0.0)\n",
      "Requirement already satisfied: azure-mgmt-powerbiembedded~=2.0 in c:\\users\\django\\appdata\\local\\programs\\python\\python310\\lib\\site-packages (from azure-mgmt~=4.0->azure) (2.0.0)\n",
      "Requirement already satisfied: azure-mgmt-media~=1.0.0rc2 in c:\\users\\django\\appdata\\local\\programs\\python\\python310\\lib\\site-packages (from azure-mgmt~=4.0->azure) (1.0.1)\n",
      "Requirement already satisfied: azure-mgmt-storage~=2.0 in c:\\users\\django\\appdata\\local\\programs\\python\\python310\\lib\\site-packages (from azure-mgmt~=4.0->azure) (2.0.0)\n",
      "Requirement already satisfied: azure-mgmt-batch~=5.0 in c:\\users\\django\\appdata\\local\\programs\\python\\python310\\lib\\site-packages (from azure-mgmt~=4.0->azure) (5.0.1)\n",
      "Requirement already satisfied: azure-mgmt-devspaces~=0.1.0 in c:\\users\\django\\appdata\\local\\programs\\python\\python310\\lib\\site-packages (from azure-mgmt~=4.0->azure) (0.1.0)\n",
      "Requirement already satisfied: azure-mgmt-recoveryservicesbackup~=0.3.0 in c:\\users\\django\\appdata\\local\\programs\\python\\python310\\lib\\site-packages (from azure-mgmt~=4.0->azure) (0.3.0)\n",
      "Requirement already satisfied: azure-mgmt-trafficmanager~=0.50.0 in c:\\users\\django\\appdata\\local\\programs\\python\\python310\\lib\\site-packages (from azure-mgmt~=4.0->azure) (0.50.0)\n",
      "Requirement already satisfied: azure-mgmt-machinelearningcompute~=0.4.1 in c:\\users\\django\\appdata\\local\\programs\\python\\python310\\lib\\site-packages (from azure-mgmt~=4.0->azure) (0.4.1)\n",
      "Requirement already satisfied: azure-mgmt-web~=0.35.0 in c:\\users\\django\\appdata\\local\\programs\\python\\python310\\lib\\site-packages (from azure-mgmt~=4.0->azure) (0.35.0)\n",
      "Requirement already satisfied: azure-mgmt-network~=2.0 in c:\\users\\django\\appdata\\local\\programs\\python\\python310\\lib\\site-packages (from azure-mgmt~=4.0->azure) (2.7.0)\n",
      "Requirement already satisfied: azure-mgmt-advisor~=1.0 in c:\\users\\django\\appdata\\local\\programs\\python\\python310\\lib\\site-packages (from azure-mgmt~=4.0->azure) (1.0.1)\n",
      "Requirement already satisfied: azure-mgmt-hanaonazure~=0.1.1 in c:\\users\\django\\appdata\\local\\programs\\python\\python310\\lib\\site-packages (from azure-mgmt~=4.0->azure) (0.1.1)\n",
      "Requirement already satisfied: azure-mgmt-signalr~=0.1.0 in c:\\users\\django\\appdata\\local\\programs\\python\\python310\\lib\\site-packages (from azure-mgmt~=4.0->azure) (0.1.1)\n",
      "Requirement already satisfied: azure-mgmt-managementgroups~=0.1.0 in c:\\users\\django\\appdata\\local\\programs\\python\\python310\\lib\\site-packages (from azure-mgmt~=4.0->azure) (0.1.0)\n",
      "Requirement already satisfied: azure-mgmt-cognitiveservices~=3.0 in c:\\users\\django\\appdata\\local\\programs\\python\\python310\\lib\\site-packages (from azure-mgmt~=4.0->azure) (3.0.0)\n",
      "Requirement already satisfied: azure-mgmt-notificationhubs~=2.0 in c:\\users\\django\\appdata\\local\\programs\\python\\python310\\lib\\site-packages (from azure-mgmt~=4.0->azure) (2.1.0)\n",
      "Requirement already satisfied: azure-mgmt-servicebus~=0.5.1 in c:\\users\\django\\appdata\\local\\programs\\python\\python310\\lib\\site-packages (from azure-mgmt~=4.0->azure) (0.5.3)\n",
      "Requirement already satisfied: azure-mgmt-compute~=4.0 in c:\\users\\django\\appdata\\local\\programs\\python\\python310\\lib\\site-packages (from azure-mgmt~=4.0->azure) (4.6.2)\n",
      "Requirement already satisfied: azure-mgmt-managementpartner~=0.1.0 in c:\\users\\django\\appdata\\local\\programs\\python\\python310\\lib\\site-packages (from azure-mgmt~=4.0->azure) (0.1.1)\n",
      "Requirement already satisfied: azure-mgmt-marketplaceordering~=0.1.0 in c:\\users\\django\\appdata\\local\\programs\\python\\python310\\lib\\site-packages (from azure-mgmt~=4.0->azure) (0.1.0)\n",
      "Requirement already satisfied: azure-mgmt-batchai~=2.0 in c:\\users\\django\\appdata\\local\\programs\\python\\python310\\lib\\site-packages (from azure-mgmt~=4.0->azure) (2.0.0)\n",
      "Requirement already satisfied: azure-mgmt-eventgrid~=1.0 in c:\\users\\django\\appdata\\local\\programs\\python\\python310\\lib\\site-packages (from azure-mgmt~=4.0->azure) (1.0.0)\n",
      "Requirement already satisfied: azure-mgmt-iotcentral~=0.1.0 in c:\\users\\django\\appdata\\local\\programs\\python\\python310\\lib\\site-packages (from azure-mgmt~=4.0->azure) (0.1.0)\n",
      "Requirement already satisfied: azure-mgmt-keyvault~=1.0 in c:\\users\\django\\appdata\\local\\programs\\python\\python310\\lib\\site-packages (from azure-mgmt~=4.0->azure) (1.1.0)\n",
      "Requirement already satisfied: azure-mgmt-datafactory~=0.6.0 in c:\\users\\django\\appdata\\local\\programs\\python\\python310\\lib\\site-packages (from azure-mgmt~=4.0->azure) (0.6.0)\n",
      "Requirement already satisfied: azure-mgmt-datalake-store~=0.5.0 in c:\\users\\django\\appdata\\local\\programs\\python\\python310\\lib\\site-packages (from azure-mgmt~=4.0->azure) (0.5.0)\n",
      "Requirement already satisfied: azure-mgmt-reservations~=0.2.1 in c:\\users\\django\\appdata\\local\\programs\\python\\python310\\lib\\site-packages (from azure-mgmt~=4.0->azure) (0.2.1)\n",
      "Requirement already satisfied: azure-mgmt-maps~=0.1.0 in c:\\users\\django\\appdata\\local\\programs\\python\\python310\\lib\\site-packages (from azure-mgmt~=4.0->azure) (0.1.0)\n",
      "Requirement already satisfied: azure-mgmt-containerregistry~=2.1 in c:\\users\\django\\appdata\\local\\programs\\python\\python310\\lib\\site-packages (from azure-mgmt~=4.0->azure) (2.8.0)\n",
      "Requirement already satisfied: azure-mgmt-iothub~=0.5.0 in c:\\users\\django\\appdata\\local\\programs\\python\\python310\\lib\\site-packages (from azure-mgmt~=4.0->azure) (0.5.0)\n",
      "Requirement already satisfied: azure-mgmt-iothubprovisioningservices~=0.2.0 in c:\\users\\django\\appdata\\local\\programs\\python\\python310\\lib\\site-packages (from azure-mgmt~=4.0->azure) (0.2.0)\n",
      "Requirement already satisfied: azure-mgmt-billing~=0.2.0 in c:\\users\\django\\appdata\\local\\programs\\python\\python310\\lib\\site-packages (from azure-mgmt~=4.0->azure) (0.2.0)\n",
      "Requirement already satisfied: azure-mgmt-rdbms~=1.2 in c:\\users\\django\\appdata\\local\\programs\\python\\python310\\lib\\site-packages (from azure-mgmt~=4.0->azure) (1.9.0)\n",
      "Requirement already satisfied: azure-mgmt-logic~=3.0 in c:\\users\\django\\appdata\\local\\programs\\python\\python310\\lib\\site-packages (from azure-mgmt~=4.0->azure) (3.0.0)\n",
      "Requirement already satisfied: azure-mgmt-cdn~=3.0 in c:\\users\\django\\appdata\\local\\programs\\python\\python310\\lib\\site-packages (from azure-mgmt~=4.0->azure) (3.1.0)\n",
      "Requirement already satisfied: azure-mgmt-msi~=0.2.0 in c:\\users\\django\\appdata\\local\\programs\\python\\python310\\lib\\site-packages (from azure-mgmt~=4.0->azure) (0.2.0)\n",
      "Requirement already satisfied: azure-mgmt-search~=2.0 in c:\\users\\django\\appdata\\local\\programs\\python\\python310\\lib\\site-packages (from azure-mgmt~=4.0->azure) (2.1.0)\n",
      "Requirement already satisfied: azure-mgmt-subscription~=0.2.0 in c:\\users\\django\\appdata\\local\\programs\\python\\python310\\lib\\site-packages (from azure-mgmt~=4.0->azure) (0.2.0)\n",
      "Requirement already satisfied: azure-mgmt-commerce~=1.0 in c:\\users\\django\\appdata\\local\\programs\\python\\python310\\lib\\site-packages (from azure-mgmt~=4.0->azure) (1.0.1)\n",
      "Requirement already satisfied: azure-mgmt-cosmosdb~=0.4.1 in c:\\users\\django\\appdata\\local\\programs\\python\\python310\\lib\\site-packages (from azure-mgmt~=4.0->azure) (0.4.1)\n",
      "Requirement already satisfied: azure-mgmt-eventhub~=2.1 in c:\\users\\django\\appdata\\local\\programs\\python\\python310\\lib\\site-packages (from azure-mgmt~=4.0->azure) (2.6.0)\n",
      "Requirement already satisfied: azure-mgmt-resource~=2.0 in c:\\users\\django\\appdata\\local\\programs\\python\\python310\\lib\\site-packages (from azure-mgmt~=4.0->azure) (2.2.0)\n",
      "Requirement already satisfied: azure-mgmt-datamigration~=1.0 in c:\\users\\django\\appdata\\local\\programs\\python\\python310\\lib\\site-packages (from azure-mgmt~=4.0->azure) (1.0.0)\n",
      "Requirement already satisfied: azure-mgmt-scheduler~=2.0 in c:\\users\\django\\appdata\\local\\programs\\python\\python310\\lib\\site-packages (from azure-mgmt~=4.0->azure) (2.0.0)\n",
      "Requirement already satisfied: azure-mgmt-consumption~=2.0 in c:\\users\\django\\appdata\\local\\programs\\python\\python310\\lib\\site-packages (from azure-mgmt~=4.0->azure) (2.0.0)\n",
      "Requirement already satisfied: azure-mgmt-nspkg>=2.0.0 in c:\\users\\django\\appdata\\local\\programs\\python\\python310\\lib\\site-packages (from azure-mgmt-advisor~=1.0->azure-mgmt~=4.0->azure) (3.0.2)\n",
      "Requirement already satisfied: azure-mgmt-datalake-nspkg>=2.0.0 in c:\\users\\django\\appdata\\local\\programs\\python\\python310\\lib\\site-packages (from azure-mgmt-datalake-analytics~=0.6.0->azure-mgmt~=4.0->azure) (3.0.1)\n",
      "Requirement already satisfied: azure-storage-common~=1.4 in c:\\users\\django\\appdata\\local\\programs\\python\\python310\\lib\\site-packages (from azure-storage-blob~=1.3->azure) (1.4.2)\n",
      "Requirement already satisfied: pycparser in c:\\users\\django\\appdata\\local\\programs\\python\\python310\\lib\\site-packages (from cffi->azure-datalake-store~=0.0.18->azure) (2.21)\n",
      "Note: you may need to restart the kernel to use updated packages.Requirement already satisfied: isodate>=0.6.0 in c:\\users\\django\\appdata\\local\\programs\\python\\python310\\lib\\site-packages (from msrest<2.0.0,>=0.5.4->azure-applicationinsights~=0.1.0->azure) (0.6.0)\n",
      "\n"
     ]
    },
    {
     "name": "stderr",
     "output_type": "stream",
     "text": [
      "WARNING: You are using pip version 21.2.3; however, version 21.3.1 is available.\n",
      "You should consider upgrading via the 'C:\\Users\\Django\\AppData\\Local\\Programs\\Python\\Python310\\python.exe -m pip install --upgrade pip' command.\n"
     ]
    },
    {
     "name": "stdout",
     "output_type": "stream",
     "text": [
      "Requirement already satisfied: requests-oauthlib>=0.5.0 in c:\\users\\django\\appdata\\local\\programs\\python\\python310\\lib\\site-packages (from msrest<2.0.0,>=0.5.4->azure-applicationinsights~=0.1.0->azure) (1.3.0)\n",
      "Requirement already satisfied: certifi>=2017.4.17 in c:\\users\\django\\appdata\\local\\programs\\python\\python310\\lib\\site-packages (from msrest<2.0.0,>=0.5.4->azure-applicationinsights~=0.1.0->azure) (2021.10.8)\n",
      "Requirement already satisfied: six in c:\\users\\django\\appdata\\local\\programs\\python\\python310\\lib\\site-packages (from isodate>=0.6.0->msrest<2.0.0,>=0.5.4->azure-applicationinsights~=0.1.0->azure) (1.16.0)\n",
      "Requirement already satisfied: idna<4,>=2.5 in c:\\users\\django\\appdata\\local\\programs\\python\\python310\\lib\\site-packages (from requests->azure-cosmosdb-table~=1.0->azure) (3.3)\n",
      "Requirement already satisfied: charset-normalizer~=2.0.0 in c:\\users\\django\\appdata\\local\\programs\\python\\python310\\lib\\site-packages (from requests->azure-cosmosdb-table~=1.0->azure) (2.0.7)\n",
      "Requirement already satisfied: urllib3<1.27,>=1.21.1 in c:\\users\\django\\appdata\\local\\programs\\python\\python310\\lib\\site-packages (from requests->azure-cosmosdb-table~=1.0->azure) (1.26.7)\n",
      "Requirement already satisfied: oauthlib>=3.0.0 in c:\\users\\django\\appdata\\local\\programs\\python\\python310\\lib\\site-packages (from requests-oauthlib>=0.5.0->msrest<2.0.0,>=0.5.4->azure-applicationinsights~=0.1.0->azure) (3.1.1)\n"
     ]
    }
   ],
   "source": [
    "pip install azure"
   ]
  },
  {
   "cell_type": "code",
   "execution_count": 94,
   "id": "cf833f29",
   "metadata": {},
   "outputs": [
    {
     "name": "stdout",
     "output_type": "stream",
     "text": [
      "Requirement already satisfied: azure-cognitiveservices-language-luis in c:\\users\\django\\appdata\\local\\programs\\python\\python310\\lib\\site-packages (0.7.0)\n",
      "Requirement already satisfied: msrestazure<2.0.0,>=0.4.32 in c:\\users\\django\\appdata\\local\\programs\\python\\python310\\lib\\site-packages (from azure-cognitiveservices-language-luis) (0.6.4)\n",
      "Requirement already satisfied: azure-common~=1.1 in c:\\users\\django\\appdata\\local\\programs\\python\\python310\\lib\\site-packages (from azure-cognitiveservices-language-luis) (1.1.27)Note: you may need to restart the kernel to use updated packages.\n",
      "\n"
     ]
    },
    {
     "name": "stderr",
     "output_type": "stream",
     "text": [
      "WARNING: You are using pip version 21.2.3; however, version 21.3.1 is available.\n",
      "You should consider upgrading via the 'C:\\Users\\Django\\AppData\\Local\\Programs\\Python\\Python310\\python.exe -m pip install --upgrade pip' command.\n"
     ]
    },
    {
     "name": "stdout",
     "output_type": "stream",
     "text": [
      "Requirement already satisfied: msrest>=0.5.0 in c:\\users\\django\\appdata\\local\\programs\\python\\python310\\lib\\site-packages (from azure-cognitiveservices-language-luis) (0.6.21)\n",
      "Requirement already satisfied: requests~=2.16 in c:\\users\\django\\appdata\\local\\programs\\python\\python310\\lib\\site-packages (from msrest>=0.5.0->azure-cognitiveservices-language-luis) (2.26.0)\n",
      "Requirement already satisfied: requests-oauthlib>=0.5.0 in c:\\users\\django\\appdata\\local\\programs\\python\\python310\\lib\\site-packages (from msrest>=0.5.0->azure-cognitiveservices-language-luis) (1.3.0)\n",
      "Requirement already satisfied: certifi>=2017.4.17 in c:\\users\\django\\appdata\\local\\programs\\python\\python310\\lib\\site-packages (from msrest>=0.5.0->azure-cognitiveservices-language-luis) (2021.10.8)\n",
      "Requirement already satisfied: isodate>=0.6.0 in c:\\users\\django\\appdata\\local\\programs\\python\\python310\\lib\\site-packages (from msrest>=0.5.0->azure-cognitiveservices-language-luis) (0.6.0)\n",
      "Requirement already satisfied: six in c:\\users\\django\\appdata\\local\\programs\\python\\python310\\lib\\site-packages (from isodate>=0.6.0->msrest>=0.5.0->azure-cognitiveservices-language-luis) (1.16.0)\n",
      "Requirement already satisfied: adal<2.0.0,>=0.6.0 in c:\\users\\django\\appdata\\local\\programs\\python\\python310\\lib\\site-packages (from msrestazure<2.0.0,>=0.4.32->azure-cognitiveservices-language-luis) (1.2.7)\n",
      "Requirement already satisfied: cryptography>=1.1.0 in c:\\users\\django\\appdata\\local\\programs\\python\\python310\\lib\\site-packages (from adal<2.0.0,>=0.6.0->msrestazure<2.0.0,>=0.4.32->azure-cognitiveservices-language-luis) (35.0.0)\n",
      "Requirement already satisfied: python-dateutil<3,>=2.1.0 in c:\\users\\django\\appdata\\local\\programs\\python\\python310\\lib\\site-packages (from adal<2.0.0,>=0.6.0->msrestazure<2.0.0,>=0.4.32->azure-cognitiveservices-language-luis) (2.8.2)\n",
      "Requirement already satisfied: PyJWT<3,>=1.0.0 in c:\\users\\django\\appdata\\local\\programs\\python\\python310\\lib\\site-packages (from adal<2.0.0,>=0.6.0->msrestazure<2.0.0,>=0.4.32->azure-cognitiveservices-language-luis) (2.3.0)\n",
      "Requirement already satisfied: cffi>=1.12 in c:\\users\\django\\appdata\\local\\programs\\python\\python310\\lib\\site-packages (from cryptography>=1.1.0->adal<2.0.0,>=0.6.0->msrestazure<2.0.0,>=0.4.32->azure-cognitiveservices-language-luis) (1.15.0)\n",
      "Requirement already satisfied: pycparser in c:\\users\\django\\appdata\\local\\programs\\python\\python310\\lib\\site-packages (from cffi>=1.12->cryptography>=1.1.0->adal<2.0.0,>=0.6.0->msrestazure<2.0.0,>=0.4.32->azure-cognitiveservices-language-luis) (2.21)\n",
      "Requirement already satisfied: charset-normalizer~=2.0.0 in c:\\users\\django\\appdata\\local\\programs\\python\\python310\\lib\\site-packages (from requests~=2.16->msrest>=0.5.0->azure-cognitiveservices-language-luis) (2.0.7)\n",
      "Requirement already satisfied: urllib3<1.27,>=1.21.1 in c:\\users\\django\\appdata\\local\\programs\\python\\python310\\lib\\site-packages (from requests~=2.16->msrest>=0.5.0->azure-cognitiveservices-language-luis) (1.26.7)\n",
      "Requirement already satisfied: idna<4,>=2.5 in c:\\users\\django\\appdata\\local\\programs\\python\\python310\\lib\\site-packages (from requests~=2.16->msrest>=0.5.0->azure-cognitiveservices-language-luis) (3.3)\n",
      "Requirement already satisfied: oauthlib>=3.0.0 in c:\\users\\django\\appdata\\local\\programs\\python\\python310\\lib\\site-packages (from requests-oauthlib>=0.5.0->msrest>=0.5.0->azure-cognitiveservices-language-luis) (3.1.1)\n"
     ]
    }
   ],
   "source": [
    "pip install azure-cognitiveservices-language-luis"
   ]
  },
  {
   "cell_type": "code",
   "execution_count": 3,
   "id": "8612b2d1",
   "metadata": {},
   "outputs": [],
   "source": [
    "\n",
    "from azure.cognitiveservices.language.luis.authoring import LUISAuthoringClient\n",
    "from azure.cognitiveservices.language.luis.authoring.models import ApplicationCreateObject\n",
    "from azure.cognitiveservices.language.luis.runtime import LUISRuntimeClient\n",
    "from msrest.authentication import CognitiveServicesCredentials\n",
    "from functools import reduce\n",
    "\n",
    "import json, time, uuid"
   ]
  },
  {
   "cell_type": "code",
   "execution_count": 4,
   "id": "79c7a95b",
   "metadata": {},
   "outputs": [],
   "source": [
    "import json\n",
    "import pandas as pd"
   ]
  },
  {
   "cell_type": "code",
   "execution_count": 97,
   "id": "e4c16a7e",
   "metadata": {
    "scrolled": false
   },
   "outputs": [
    {
     "data": {
      "text/html": [
       "<div>\n",
       "<style scoped>\n",
       "    .dataframe tbody tr th:only-of-type {\n",
       "        vertical-align: middle;\n",
       "    }\n",
       "\n",
       "    .dataframe tbody tr th {\n",
       "        vertical-align: top;\n",
       "    }\n",
       "\n",
       "    .dataframe thead th {\n",
       "        text-align: right;\n",
       "    }\n",
       "</style>\n",
       "<table border=\"1\" class=\"dataframe\">\n",
       "  <thead>\n",
       "    <tr style=\"text-align: right;\">\n",
       "      <th></th>\n",
       "      <th>user_id</th>\n",
       "      <th>turns</th>\n",
       "      <th>wizard_id</th>\n",
       "      <th>id</th>\n",
       "      <th>labels</th>\n",
       "    </tr>\n",
       "  </thead>\n",
       "  <tbody>\n",
       "    <tr>\n",
       "      <th>0</th>\n",
       "      <td>U22HTHYNP</td>\n",
       "      <td>[{'text': 'I'd like to book a trip to Atlantis...</td>\n",
       "      <td>U21DKG18C</td>\n",
       "      <td>e2c0fc6c-2134-4891-8353-ef16d8412c9a</td>\n",
       "      <td>{'userSurveyRating': 4.0, 'wizardSurveyTaskSuc...</td>\n",
       "    </tr>\n",
       "    <tr>\n",
       "      <th>1</th>\n",
       "      <td>U21E41CQP</td>\n",
       "      <td>[{'text': 'Hello, I am looking to book a vacat...</td>\n",
       "      <td>U21DMV0KA</td>\n",
       "      <td>4a3bfa39-2c22-42c8-8694-32b4e34415e9</td>\n",
       "      <td>{'userSurveyRating': 3.0, 'wizardSurveyTaskSuc...</td>\n",
       "    </tr>\n",
       "    <tr>\n",
       "      <th>2</th>\n",
       "      <td>U21RP4FCY</td>\n",
       "      <td>[{'text': 'Hello there i am looking to go on a...</td>\n",
       "      <td>U21E0179B</td>\n",
       "      <td>6e67ed28-e94c-4fab-96b6-68569a92682f</td>\n",
       "      <td>{'userSurveyRating': 2.0, 'wizardSurveyTaskSuc...</td>\n",
       "    </tr>\n",
       "    <tr>\n",
       "      <th>3</th>\n",
       "      <td>U22HTHYNP</td>\n",
       "      <td>[{'text': 'Hi I'd like to go to Caprica from B...</td>\n",
       "      <td>U21DKG18C</td>\n",
       "      <td>5ae76e50-5b48-4166-9f6d-67aaabd7bcaa</td>\n",
       "      <td>{'userSurveyRating': 5.0, 'wizardSurveyTaskSuc...</td>\n",
       "    </tr>\n",
       "    <tr>\n",
       "      <th>4</th>\n",
       "      <td>U21E41CQP</td>\n",
       "      <td>[{'text': 'Hello, I am looking to book a trip ...</td>\n",
       "      <td>U21DMV0KA</td>\n",
       "      <td>24603086-bb53-431e-a0d8-1dcc63518ba9</td>\n",
       "      <td>{'userSurveyRating': 5.0, 'wizardSurveyTaskSuc...</td>\n",
       "    </tr>\n",
       "    <tr>\n",
       "      <th>...</th>\n",
       "      <td>...</td>\n",
       "      <td>...</td>\n",
       "      <td>...</td>\n",
       "      <td>...</td>\n",
       "      <td>...</td>\n",
       "    </tr>\n",
       "    <tr>\n",
       "      <th>1364</th>\n",
       "      <td>U2AMZ8TLK</td>\n",
       "      <td>[{'text': 'Hi I've got 9 days free and I'm loo...</td>\n",
       "      <td>U21DMV0KA</td>\n",
       "      <td>957fd205-bb7c-4b81-8cb6-13c81c51c5c9</td>\n",
       "      <td>{'userSurveyRating': 3.5, 'wizardSurveyTaskSuc...</td>\n",
       "    </tr>\n",
       "    <tr>\n",
       "      <th>1365</th>\n",
       "      <td>U2AMZ8TLK</td>\n",
       "      <td>[{'text': 'I need to get to Fortaleza on Septe...</td>\n",
       "      <td>U260BGVS6</td>\n",
       "      <td>71b21b86-2d05-4372-a0ee-6ed64b0ddc42</td>\n",
       "      <td>{'userSurveyRating': 4.5, 'wizardSurveyTaskSuc...</td>\n",
       "    </tr>\n",
       "    <tr>\n",
       "      <th>1366</th>\n",
       "      <td>U231PNNA3</td>\n",
       "      <td>[{'text': 'We're finally going on vacation isn...</td>\n",
       "      <td>U21T9NMKM</td>\n",
       "      <td>ef2cd70e-c1f2-42be-8839-cb465af0bf41</td>\n",
       "      <td>{'userSurveyRating': 5.0, 'wizardSurveyTaskSuc...</td>\n",
       "    </tr>\n",
       "    <tr>\n",
       "      <th>1367</th>\n",
       "      <td>U2AMZ8TLK</td>\n",
       "      <td>[{'text': 'Hi there, I'm looking for a place t...</td>\n",
       "      <td>U21DMV0KA</td>\n",
       "      <td>ffa79d2c-14eb-45e6-8573-b0817a1a1803</td>\n",
       "      <td>{'userSurveyRating': 4.0, 'wizardSurveyTaskSuc...</td>\n",
       "    </tr>\n",
       "    <tr>\n",
       "      <th>1368</th>\n",
       "      <td>U2AMZ8TLK</td>\n",
       "      <td>[{'text': 'I need to book a trip for the whole...</td>\n",
       "      <td>U260BGVS6</td>\n",
       "      <td>0d364be2-9f43-4f5a-8506-1af4523515ba</td>\n",
       "      <td>{'userSurveyRating': 5.0, 'wizardSurveyTaskSuc...</td>\n",
       "    </tr>\n",
       "  </tbody>\n",
       "</table>\n",
       "<p>1369 rows × 5 columns</p>\n",
       "</div>"
      ],
      "text/plain": [
       "        user_id                                              turns  wizard_id  \\\n",
       "0     U22HTHYNP  [{'text': 'I'd like to book a trip to Atlantis...  U21DKG18C   \n",
       "1     U21E41CQP  [{'text': 'Hello, I am looking to book a vacat...  U21DMV0KA   \n",
       "2     U21RP4FCY  [{'text': 'Hello there i am looking to go on a...  U21E0179B   \n",
       "3     U22HTHYNP  [{'text': 'Hi I'd like to go to Caprica from B...  U21DKG18C   \n",
       "4     U21E41CQP  [{'text': 'Hello, I am looking to book a trip ...  U21DMV0KA   \n",
       "...         ...                                                ...        ...   \n",
       "1364  U2AMZ8TLK  [{'text': 'Hi I've got 9 days free and I'm loo...  U21DMV0KA   \n",
       "1365  U2AMZ8TLK  [{'text': 'I need to get to Fortaleza on Septe...  U260BGVS6   \n",
       "1366  U231PNNA3  [{'text': 'We're finally going on vacation isn...  U21T9NMKM   \n",
       "1367  U2AMZ8TLK  [{'text': 'Hi there, I'm looking for a place t...  U21DMV0KA   \n",
       "1368  U2AMZ8TLK  [{'text': 'I need to book a trip for the whole...  U260BGVS6   \n",
       "\n",
       "                                        id  \\\n",
       "0     e2c0fc6c-2134-4891-8353-ef16d8412c9a   \n",
       "1     4a3bfa39-2c22-42c8-8694-32b4e34415e9   \n",
       "2     6e67ed28-e94c-4fab-96b6-68569a92682f   \n",
       "3     5ae76e50-5b48-4166-9f6d-67aaabd7bcaa   \n",
       "4     24603086-bb53-431e-a0d8-1dcc63518ba9   \n",
       "...                                    ...   \n",
       "1364  957fd205-bb7c-4b81-8cb6-13c81c51c5c9   \n",
       "1365  71b21b86-2d05-4372-a0ee-6ed64b0ddc42   \n",
       "1366  ef2cd70e-c1f2-42be-8839-cb465af0bf41   \n",
       "1367  ffa79d2c-14eb-45e6-8573-b0817a1a1803   \n",
       "1368  0d364be2-9f43-4f5a-8506-1af4523515ba   \n",
       "\n",
       "                                                 labels  \n",
       "0     {'userSurveyRating': 4.0, 'wizardSurveyTaskSuc...  \n",
       "1     {'userSurveyRating': 3.0, 'wizardSurveyTaskSuc...  \n",
       "2     {'userSurveyRating': 2.0, 'wizardSurveyTaskSuc...  \n",
       "3     {'userSurveyRating': 5.0, 'wizardSurveyTaskSuc...  \n",
       "4     {'userSurveyRating': 5.0, 'wizardSurveyTaskSuc...  \n",
       "...                                                 ...  \n",
       "1364  {'userSurveyRating': 3.5, 'wizardSurveyTaskSuc...  \n",
       "1365  {'userSurveyRating': 4.5, 'wizardSurveyTaskSuc...  \n",
       "1366  {'userSurveyRating': 5.0, 'wizardSurveyTaskSuc...  \n",
       "1367  {'userSurveyRating': 4.0, 'wizardSurveyTaskSuc...  \n",
       "1368  {'userSurveyRating': 5.0, 'wizardSurveyTaskSuc...  \n",
       "\n",
       "[1369 rows x 5 columns]"
      ]
     },
     "execution_count": 97,
     "metadata": {},
     "output_type": "execute_result"
    }
   ],
   "source": [
    "df=pd.read_json('../frames/frames.json')\n",
    "\n",
    "df"
   ]
  },
  {
   "cell_type": "code",
   "execution_count": 98,
   "id": "add6dfb6",
   "metadata": {},
   "outputs": [
    {
     "data": {
      "text/plain": [
       "1369"
      ]
     },
     "execution_count": 98,
     "metadata": {},
     "output_type": "execute_result"
    }
   ],
   "source": [
    "len(df)"
   ]
  },
  {
   "cell_type": "code",
   "execution_count": 99,
   "id": "8a7a2d04",
   "metadata": {},
   "outputs": [
    {
     "data": {
      "text/plain": [
       "{'text': \"I'd like to book a trip to Atlantis from Caprica on Saturday, August 13, 2016 for 8 adults. I have a tight budget of 1700.\",\n",
       " 'labels': {'acts': [{'args': [{'val': 'book', 'key': 'intent'}],\n",
       "    'name': 'inform'},\n",
       "   {'args': [{'val': 'Atlantis', 'key': 'dst_city'},\n",
       "     {'val': 'Caprica', 'key': 'or_city'},\n",
       "     {'val': 'Saturday, August 13, 2016', 'key': 'str_date'},\n",
       "     {'val': '8', 'key': 'n_adults'},\n",
       "     {'val': '1700', 'key': 'budget'}],\n",
       "    'name': 'inform'}],\n",
       "  'acts_without_refs': [{'args': [{'val': 'book', 'key': 'intent'}],\n",
       "    'name': 'inform'},\n",
       "   {'args': [{'val': 'Atlantis', 'key': 'dst_city'},\n",
       "     {'val': 'Caprica', 'key': 'or_city'},\n",
       "     {'val': 'Saturday, August 13, 2016', 'key': 'str_date'},\n",
       "     {'val': '8', 'key': 'n_adults'},\n",
       "     {'val': '1700', 'key': 'budget'}],\n",
       "    'name': 'inform'}],\n",
       "  'active_frame': 1,\n",
       "  'frames': [{'info': {'intent': [{'val': 'book', 'negated': False}],\n",
       "     'budget': [{'val': '1700.0', 'negated': False}],\n",
       "     'dst_city': [{'val': 'Atlantis', 'negated': False}],\n",
       "     'or_city': [{'val': 'Caprica', 'negated': False}],\n",
       "     'str_date': [{'val': 'august 13', 'negated': False}],\n",
       "     'n_adults': [{'val': '8', 'negated': False}]},\n",
       "    'frame_id': 1,\n",
       "    'requests': [],\n",
       "    'frame_parent_id': None,\n",
       "    'binary_questions': [],\n",
       "    'compare_requests': []}]},\n",
       " 'author': 'user',\n",
       " 'timestamp': 1471272019730.0}"
      ]
     },
     "execution_count": 99,
     "metadata": {},
     "output_type": "execute_result"
    }
   ],
   "source": [
    "x=df.iloc[0].turns[0]\n",
    "x"
   ]
  },
  {
   "cell_type": "code",
   "execution_count": 100,
   "id": "d9ef146c",
   "metadata": {},
   "outputs": [
    {
     "data": {
      "text/plain": [
       "'Atlantis'"
      ]
     },
     "execution_count": 100,
     "metadata": {},
     "output_type": "execute_result"
    }
   ],
   "source": [
    "x['labels']['frames'][0]['info']['dst_city'][0]['val']"
   ]
  },
  {
   "cell_type": "code",
   "execution_count": 101,
   "id": "91641f64",
   "metadata": {},
   "outputs": [
    {
     "data": {
      "text/plain": [
       "'Atlantis'"
      ]
     },
     "execution_count": 101,
     "metadata": {},
     "output_type": "execute_result"
    }
   ],
   "source": [
    "df.loc[0].turns[0]['labels']['frames'][0]['info']['dst_city'][0]['val']"
   ]
  },
  {
   "cell_type": "code",
   "execution_count": 102,
   "id": "557df208",
   "metadata": {},
   "outputs": [],
   "source": [
    "data=[]\n",
    "dst_city='nan'\n",
    "or_city='nan'\n",
    "budget='0'\n",
    "str_date='nan'\n",
    "end_date='nan'\n",
    "for i in range(0,1367):\n",
    "    where=df.loc[i].turns[0]\n",
    "    text=where['text']\n",
    "    if 'dst_city' in where['labels']['frames'][0]['info']:\n",
    "        dst_city= where['labels']['frames'][0]['info']['dst_city'][0]['val']\n",
    "        if dst_city== '-1':\n",
    "            dst_city='nan'\n",
    "    if 'or_city' in where['labels']['frames'][0]['info']:\n",
    "        or_city= where['labels']['frames'][0]['info']['or_city'][0]['val']\n",
    "        if or_city== '-1':\n",
    "            or_city='nan'\n",
    "\n",
    "    if 'budget' in where['labels']['frames'][0]['info']:\n",
    "        budget= where['labels']['frames'][0]['info']['budget'][0]['val']\n",
    "        \n",
    "        if budget== '-1':\n",
    "            budget='0'\n",
    "        elif budget== '$MIN':\n",
    "            budget='0'\n",
    "        elif budget== 'free':  #WE CLEAN EVERY EXCEPTIONS\n",
    "            budget='0'\n",
    "        elif budget== 'travel for free':\n",
    "            budget='0'\n",
    "        elif budget== 'all my savings':\n",
    "            budget='0'                \n",
    "            \n",
    "    if 'str_date' in where['labels']['frames'][0]['info']:\n",
    "        str_date= where['labels']['frames'][0]['info']['str_date'][0]['val']\n",
    "        if str_date== '-1':\n",
    "            str_date='nan'\n",
    "    if 'end_date' in where['labels']['frames'][0]['info']:\n",
    "        end_date=where['labels']['frames'][0]['info']['end_date'][0]['val']\n",
    "        if end_date== '-1':\n",
    "            end_date='nan'\n",
    "    data.append([text,dst_city,or_city,budget,str_date,end_date])\n",
    "dataframe=pd.DataFrame(data, columns=[\"text\",\"dst_city\",\"or_city\",\"budget\",\"str_date\",\"end_date\"])\n",
    "\n",
    "    \n",
    "    \n",
    "        \n",
    "        \n",
    "         \n",
    "\n"
   ]
  },
  {
   "cell_type": "markdown",
   "id": "9e145dda",
   "metadata": {},
   "source": [
    "- We have now 1000 json almost clean"
   ]
  },
  {
   "cell_type": "code",
   "execution_count": 103,
   "id": "08c6562c",
   "metadata": {},
   "outputs": [
    {
     "data": {
      "text/html": [
       "<div>\n",
       "<style scoped>\n",
       "    .dataframe tbody tr th:only-of-type {\n",
       "        vertical-align: middle;\n",
       "    }\n",
       "\n",
       "    .dataframe tbody tr th {\n",
       "        vertical-align: top;\n",
       "    }\n",
       "\n",
       "    .dataframe thead th {\n",
       "        text-align: right;\n",
       "    }\n",
       "</style>\n",
       "<table border=\"1\" class=\"dataframe\">\n",
       "  <thead>\n",
       "    <tr style=\"text-align: right;\">\n",
       "      <th></th>\n",
       "      <th>text</th>\n",
       "      <th>dst_city</th>\n",
       "      <th>or_city</th>\n",
       "      <th>budget</th>\n",
       "      <th>str_date</th>\n",
       "      <th>end_date</th>\n",
       "    </tr>\n",
       "  </thead>\n",
       "  <tbody>\n",
       "    <tr>\n",
       "      <th>0</th>\n",
       "      <td>I'd like to book a trip to Atlantis from Capri...</td>\n",
       "      <td>Atlantis</td>\n",
       "      <td>Caprica</td>\n",
       "      <td>1700.0</td>\n",
       "      <td>august 13</td>\n",
       "      <td>nan</td>\n",
       "    </tr>\n",
       "    <tr>\n",
       "      <th>1</th>\n",
       "      <td>Hello, I am looking to book a vacation from Go...</td>\n",
       "      <td>Mos Eisley</td>\n",
       "      <td>Gotham City</td>\n",
       "      <td>2100.0</td>\n",
       "      <td>august 13</td>\n",
       "      <td>nan</td>\n",
       "    </tr>\n",
       "    <tr>\n",
       "      <th>2</th>\n",
       "      <td>Hello there i am looking to go on a vacation w...</td>\n",
       "      <td>Gotham City</td>\n",
       "      <td>Gotham City</td>\n",
       "      <td>2100.0</td>\n",
       "      <td>august 13</td>\n",
       "      <td>nan</td>\n",
       "    </tr>\n",
       "    <tr>\n",
       "      <th>3</th>\n",
       "      <td>Hi I'd like to go to Caprica from Busan, betwe...</td>\n",
       "      <td>Caprica</td>\n",
       "      <td>Busan</td>\n",
       "      <td>2100.0</td>\n",
       "      <td>august 21</td>\n",
       "      <td>august 31</td>\n",
       "    </tr>\n",
       "    <tr>\n",
       "      <th>4</th>\n",
       "      <td>Hello, I am looking to book a trip for 2 adult...</td>\n",
       "      <td>Denver</td>\n",
       "      <td>Kochi</td>\n",
       "      <td>21.3</td>\n",
       "      <td>august 21</td>\n",
       "      <td>august 31</td>\n",
       "    </tr>\n",
       "    <tr>\n",
       "      <th>...</th>\n",
       "      <td>...</td>\n",
       "      <td>...</td>\n",
       "      <td>...</td>\n",
       "      <td>...</td>\n",
       "      <td>...</td>\n",
       "      <td>...</td>\n",
       "    </tr>\n",
       "    <tr>\n",
       "      <th>1362</th>\n",
       "      <td>Hey, I need to get back home to Milan!</td>\n",
       "      <td>Milan</td>\n",
       "      <td>Recife</td>\n",
       "      <td>4000.0</td>\n",
       "      <td>september 30</td>\n",
       "      <td>4</td>\n",
       "    </tr>\n",
       "    <tr>\n",
       "      <th>1363</th>\n",
       "      <td>I have a CRUCIAL meeting with my investors in ...</td>\n",
       "      <td>Santa Cruz</td>\n",
       "      <td>Recife</td>\n",
       "      <td>4000.0</td>\n",
       "      <td>september 30</td>\n",
       "      <td>4</td>\n",
       "    </tr>\n",
       "    <tr>\n",
       "      <th>1364</th>\n",
       "      <td>Hi I've got 9 days free and I'm looking for a ...</td>\n",
       "      <td>Santa Cruz</td>\n",
       "      <td>San Francisco</td>\n",
       "      <td>4000.0</td>\n",
       "      <td>september 30</td>\n",
       "      <td>4</td>\n",
       "    </tr>\n",
       "    <tr>\n",
       "      <th>1365</th>\n",
       "      <td>I need to get to Fortaleza on September 8th or...</td>\n",
       "      <td>Fortaleza</td>\n",
       "      <td>San Francisco</td>\n",
       "      <td>4000.0</td>\n",
       "      <td>september 8</td>\n",
       "      <td>4</td>\n",
       "    </tr>\n",
       "    <tr>\n",
       "      <th>1366</th>\n",
       "      <td>We're finally going on vacation isn't that ama...</td>\n",
       "      <td>Fortaleza</td>\n",
       "      <td>San Francisco</td>\n",
       "      <td>15600.0</td>\n",
       "      <td>september 8</td>\n",
       "      <td>4</td>\n",
       "    </tr>\n",
       "  </tbody>\n",
       "</table>\n",
       "<p>1367 rows × 6 columns</p>\n",
       "</div>"
      ],
      "text/plain": [
       "                                                   text     dst_city  \\\n",
       "0     I'd like to book a trip to Atlantis from Capri...     Atlantis   \n",
       "1     Hello, I am looking to book a vacation from Go...   Mos Eisley   \n",
       "2     Hello there i am looking to go on a vacation w...  Gotham City   \n",
       "3     Hi I'd like to go to Caprica from Busan, betwe...      Caprica   \n",
       "4     Hello, I am looking to book a trip for 2 adult...       Denver   \n",
       "...                                                 ...          ...   \n",
       "1362             Hey, I need to get back home to Milan!        Milan   \n",
       "1363  I have a CRUCIAL meeting with my investors in ...   Santa Cruz   \n",
       "1364  Hi I've got 9 days free and I'm looking for a ...   Santa Cruz   \n",
       "1365  I need to get to Fortaleza on September 8th or...    Fortaleza   \n",
       "1366  We're finally going on vacation isn't that ama...    Fortaleza   \n",
       "\n",
       "            or_city   budget      str_date   end_date  \n",
       "0           Caprica   1700.0     august 13        nan  \n",
       "1       Gotham City   2100.0     august 13        nan  \n",
       "2       Gotham City   2100.0     august 13        nan  \n",
       "3             Busan   2100.0     august 21  august 31  \n",
       "4             Kochi     21.3     august 21  august 31  \n",
       "...             ...      ...           ...        ...  \n",
       "1362         Recife   4000.0  september 30          4  \n",
       "1363         Recife   4000.0  september 30          4  \n",
       "1364  San Francisco   4000.0  september 30          4  \n",
       "1365  San Francisco   4000.0   september 8          4  \n",
       "1366  San Francisco  15600.0   september 8          4  \n",
       "\n",
       "[1367 rows x 6 columns]"
      ]
     },
     "execution_count": 103,
     "metadata": {},
     "output_type": "execute_result"
    }
   ],
   "source": [
    "dataframe"
   ]
  },
  {
   "cell_type": "markdown",
   "id": "08385634",
   "metadata": {},
   "source": [
    "- We need to convert some budgets"
   ]
  },
  {
   "cell_type": "code",
   "execution_count": 104,
   "id": "1715dba8",
   "metadata": {},
   "outputs": [],
   "source": [
    "def convert(budget):\n",
    "    if budget<100:\n",
    "        budget=budget*1000\n",
    "    return budget"
   ]
  },
  {
   "cell_type": "code",
   "execution_count": 105,
   "id": "6423d0a5",
   "metadata": {},
   "outputs": [],
   "source": [
    "dataframe['budget']=dataframe['budget'].astype(str).astype(float)\n",
    "dataframe['budget']=dataframe['budget'].transform(convert)\n",
    "dataframe['budget']=dataframe['budget'].astype(int).astype(str)\n",
    "# Lower every character\n",
    "dataframe['text']=dataframe['text'].str.lower()\n",
    "dataframe['dst_city']=dataframe['dst_city'].str.lower()\n",
    "dataframe['or_city']=dataframe['or_city'].str.lower()"
   ]
  },
  {
   "cell_type": "code",
   "execution_count": 106,
   "id": "2f9de7fe",
   "metadata": {},
   "outputs": [
    {
     "data": {
      "text/html": [
       "<div>\n",
       "<style scoped>\n",
       "    .dataframe tbody tr th:only-of-type {\n",
       "        vertical-align: middle;\n",
       "    }\n",
       "\n",
       "    .dataframe tbody tr th {\n",
       "        vertical-align: top;\n",
       "    }\n",
       "\n",
       "    .dataframe thead th {\n",
       "        text-align: right;\n",
       "    }\n",
       "</style>\n",
       "<table border=\"1\" class=\"dataframe\">\n",
       "  <thead>\n",
       "    <tr style=\"text-align: right;\">\n",
       "      <th></th>\n",
       "      <th>text</th>\n",
       "      <th>dst_city</th>\n",
       "      <th>or_city</th>\n",
       "      <th>budget</th>\n",
       "      <th>str_date</th>\n",
       "      <th>end_date</th>\n",
       "    </tr>\n",
       "  </thead>\n",
       "  <tbody>\n",
       "    <tr>\n",
       "      <th>0</th>\n",
       "      <td>i'd like to book a trip to atlantis from capri...</td>\n",
       "      <td>atlantis</td>\n",
       "      <td>caprica</td>\n",
       "      <td>1700</td>\n",
       "      <td>august 13</td>\n",
       "      <td>nan</td>\n",
       "    </tr>\n",
       "    <tr>\n",
       "      <th>1</th>\n",
       "      <td>hello, i am looking to book a vacation from go...</td>\n",
       "      <td>mos eisley</td>\n",
       "      <td>gotham city</td>\n",
       "      <td>2100</td>\n",
       "      <td>august 13</td>\n",
       "      <td>nan</td>\n",
       "    </tr>\n",
       "    <tr>\n",
       "      <th>2</th>\n",
       "      <td>hello there i am looking to go on a vacation w...</td>\n",
       "      <td>gotham city</td>\n",
       "      <td>gotham city</td>\n",
       "      <td>2100</td>\n",
       "      <td>august 13</td>\n",
       "      <td>nan</td>\n",
       "    </tr>\n",
       "    <tr>\n",
       "      <th>3</th>\n",
       "      <td>hi i'd like to go to caprica from busan, betwe...</td>\n",
       "      <td>caprica</td>\n",
       "      <td>busan</td>\n",
       "      <td>2100</td>\n",
       "      <td>august 21</td>\n",
       "      <td>august 31</td>\n",
       "    </tr>\n",
       "    <tr>\n",
       "      <th>4</th>\n",
       "      <td>hello, i am looking to book a trip for 2 adult...</td>\n",
       "      <td>denver</td>\n",
       "      <td>kochi</td>\n",
       "      <td>21300</td>\n",
       "      <td>august 21</td>\n",
       "      <td>august 31</td>\n",
       "    </tr>\n",
       "    <tr>\n",
       "      <th>...</th>\n",
       "      <td>...</td>\n",
       "      <td>...</td>\n",
       "      <td>...</td>\n",
       "      <td>...</td>\n",
       "      <td>...</td>\n",
       "      <td>...</td>\n",
       "    </tr>\n",
       "    <tr>\n",
       "      <th>1362</th>\n",
       "      <td>hey, i need to get back home to milan!</td>\n",
       "      <td>milan</td>\n",
       "      <td>recife</td>\n",
       "      <td>4000</td>\n",
       "      <td>september 30</td>\n",
       "      <td>4</td>\n",
       "    </tr>\n",
       "    <tr>\n",
       "      <th>1363</th>\n",
       "      <td>i have a crucial meeting with my investors in ...</td>\n",
       "      <td>santa cruz</td>\n",
       "      <td>recife</td>\n",
       "      <td>4000</td>\n",
       "      <td>september 30</td>\n",
       "      <td>4</td>\n",
       "    </tr>\n",
       "    <tr>\n",
       "      <th>1364</th>\n",
       "      <td>hi i've got 9 days free and i'm looking for a ...</td>\n",
       "      <td>santa cruz</td>\n",
       "      <td>san francisco</td>\n",
       "      <td>4000</td>\n",
       "      <td>september 30</td>\n",
       "      <td>4</td>\n",
       "    </tr>\n",
       "    <tr>\n",
       "      <th>1365</th>\n",
       "      <td>i need to get to fortaleza on september 8th or...</td>\n",
       "      <td>fortaleza</td>\n",
       "      <td>san francisco</td>\n",
       "      <td>4000</td>\n",
       "      <td>september 8</td>\n",
       "      <td>4</td>\n",
       "    </tr>\n",
       "    <tr>\n",
       "      <th>1366</th>\n",
       "      <td>we're finally going on vacation isn't that ama...</td>\n",
       "      <td>fortaleza</td>\n",
       "      <td>san francisco</td>\n",
       "      <td>15600</td>\n",
       "      <td>september 8</td>\n",
       "      <td>4</td>\n",
       "    </tr>\n",
       "  </tbody>\n",
       "</table>\n",
       "<p>1367 rows × 6 columns</p>\n",
       "</div>"
      ],
      "text/plain": [
       "                                                   text     dst_city  \\\n",
       "0     i'd like to book a trip to atlantis from capri...     atlantis   \n",
       "1     hello, i am looking to book a vacation from go...   mos eisley   \n",
       "2     hello there i am looking to go on a vacation w...  gotham city   \n",
       "3     hi i'd like to go to caprica from busan, betwe...      caprica   \n",
       "4     hello, i am looking to book a trip for 2 adult...       denver   \n",
       "...                                                 ...          ...   \n",
       "1362             hey, i need to get back home to milan!        milan   \n",
       "1363  i have a crucial meeting with my investors in ...   santa cruz   \n",
       "1364  hi i've got 9 days free and i'm looking for a ...   santa cruz   \n",
       "1365  i need to get to fortaleza on september 8th or...    fortaleza   \n",
       "1366  we're finally going on vacation isn't that ama...    fortaleza   \n",
       "\n",
       "            or_city budget      str_date   end_date  \n",
       "0           caprica   1700     august 13        nan  \n",
       "1       gotham city   2100     august 13        nan  \n",
       "2       gotham city   2100     august 13        nan  \n",
       "3             busan   2100     august 21  august 31  \n",
       "4             kochi  21300     august 21  august 31  \n",
       "...             ...    ...           ...        ...  \n",
       "1362         recife   4000  september 30          4  \n",
       "1363         recife   4000  september 30          4  \n",
       "1364  san francisco   4000  september 30          4  \n",
       "1365  san francisco   4000   september 8          4  \n",
       "1366  san francisco  15600   september 8          4  \n",
       "\n",
       "[1367 rows x 6 columns]"
      ]
     },
     "execution_count": 106,
     "metadata": {},
     "output_type": "execute_result"
    }
   ],
   "source": [
    "dataframe"
   ]
  },
  {
   "cell_type": "markdown",
   "id": "27b8d723",
   "metadata": {},
   "source": [
    "Now that we have a pretty clean dataframe we can start to create a new json.\n",
    "\n",
    "We need our structure to be compatible with LUIS"
   ]
  },
  {
   "cell_type": "markdown",
   "id": "8395006b",
   "metadata": {},
   "source": [
    "## JSON For LUIS"
   ]
  },
  {
   "cell_type": "code",
   "execution_count": 107,
   "id": "343c43fc",
   "metadata": {},
   "outputs": [],
   "source": [
    "intentName=\"FlyMe\""
   ]
  },
  {
   "cell_type": "code",
   "execution_count": 108,
   "id": "06c885c9",
   "metadata": {},
   "outputs": [],
   "source": [
    "def Json_Luis(data):\n",
    "    loc=[]\n",
    "    where=['or_city','dst_city','budget','str_date','end_date']\n",
    "    for arg in where:\n",
    "        where_arg=data[arg]\n",
    "        #print(arg,where_arg)\n",
    "        if (where_arg!='nan'):\n",
    "            st=data.text.find(where_arg) #Find location \n",
    "            if(st==-1 or where_arg=='0'): # In case there is no location returned\n",
    "                loc.append([0,0])\n",
    "            else:\n",
    "                ed=st+len(where_arg)-1 #End Char Index\n",
    "                loc.append([st,ed])\n",
    "        else :loc.append([0,0])\n",
    "        #print(loc)\n",
    "        #print(st,ed)\n",
    "    \n",
    "    labeledExample={\n",
    "    \"text\": data.text,\n",
    "    \"intentName\": intentName,\n",
    "    \"entityLabels\": [\n",
    "        {\n",
    "            \"startCharIndex\": 0,\n",
    "            \"endCharIndex\": (len(data.text)-1),\n",
    "            \"entityName\": \"FlyMeBooking\",\n",
    "            \"children\": [\n",
    "                {\n",
    "                    \"startCharIndex\": loc[0][0],\n",
    "                    \"endCharIndex\": loc[0][1],\n",
    "                    \"entityName\": \"or_city\"\n",
    "                    \n",
    "                },\n",
    "                \n",
    "                {\n",
    "                    \"startCharIndex\": loc[1][0],\n",
    "                    \"endCharIndex\": loc[1][1],\n",
    "                    \"entityName\": \"dst_city\"\n",
    "                },\n",
    "                {\n",
    "                    \"startCharIndex\": loc[2][0],\n",
    "                    \"endCharIndex\": loc[2][1],\n",
    "                    \"entityName\": \"budget\"\n",
    "                },\n",
    "                {\n",
    "                    \"startCharIndex\": loc[3][0],\n",
    "                    \"endCharIndex\": loc[3][1],\n",
    "                    \"entityName\": \"str_date\"\n",
    "                },\n",
    "                {\n",
    "                    \"startCharIndex\": loc[4][0],\n",
    "                    \"endCharIndex\": loc[4][1],\n",
    "                    \"entityName\": \"end_date\"\n",
    "                }                   \n",
    "                        \n",
    "            ]}\n",
    "        \n",
    "        ]}\n",
    "    \n",
    "        # Remove all the empty childrens in the json\n",
    "    removeEmpty=[]\n",
    "    for index, localisation, in enumerate(loc):\n",
    "        if (localisation==[0,0]):\n",
    "            #print('i am in')\n",
    "            removeEmpty.append(labeledExample['entityLabels'][0]['children'][index]['entityName'])\n",
    "    #print(labeledExample['entityLabels'][0]['children'][index]['entityName'])\n",
    "    #print(removeEmpty)\n",
    "    for rm in removeEmpty:\n",
    "        for i in range(len(labeledExample['entityLabels'][0]['children'])):\n",
    "            \n",
    "            if labeledExample['entityLabels'][0]['children'][i]['entityName']==rm:\n",
    "    \n",
    "                labeledExample['entityLabels'][0]['children'].pop(i)\n",
    "                break\n",
    "\n",
    "    return labeledExample              "
   ]
  },
  {
   "cell_type": "code",
   "execution_count": 109,
   "id": "033d7d62",
   "metadata": {},
   "outputs": [
    {
     "data": {
      "text/plain": [
       "{'text': \"i'd like to book a trip to atlantis from caprica on saturday, august 13, 2016 for 8 adults. i have a tight budget of 1700.\",\n",
       " 'intentName': 'FlyMe',\n",
       " 'entityLabels': [{'startCharIndex': 0,\n",
       "   'endCharIndex': 121,\n",
       "   'entityName': 'FlyMeBooking',\n",
       "   'children': [{'startCharIndex': 41,\n",
       "     'endCharIndex': 47,\n",
       "     'entityName': 'or_city'},\n",
       "    {'startCharIndex': 27, 'endCharIndex': 34, 'entityName': 'dst_city'},\n",
       "    {'startCharIndex': 117, 'endCharIndex': 120, 'entityName': 'budget'},\n",
       "    {'startCharIndex': 62, 'endCharIndex': 70, 'entityName': 'str_date'}]}]}"
      ]
     },
     "execution_count": 109,
     "metadata": {},
     "output_type": "execute_result"
    }
   ],
   "source": [
    "Json_Luis(dataframe.iloc[0])"
   ]
  },
  {
   "cell_type": "markdown",
   "id": "c62b021b",
   "metadata": {},
   "source": [
    "Works fine the last children has been deleted cause there is no end date"
   ]
  },
  {
   "cell_type": "markdown",
   "id": "73416111",
   "metadata": {},
   "source": [
    "# Luis Training\n",
    "## Authentification "
   ]
  },
  {
   "cell_type": "code",
   "execution_count": 110,
   "id": "de807677",
   "metadata": {},
   "outputs": [],
   "source": [
    "def get_grandchild_id(model, childName, grandChildName):\n",
    "    \n",
    "    theseChildren = next(filter((lambda child: child.name == childName), model.children))\n",
    "    theseGrandchildren = next(filter((lambda child: child.name == grandChildName), theseChildren.children))\n",
    "    \n",
    "    grandChildId = theseGrandchildren.id\n",
    "    \n",
    "    return grandChildId\n"
   ]
  },
  {
   "cell_type": "code",
   "execution_count": 111,
   "id": "e7132cd8",
   "metadata": {},
   "outputs": [],
   "source": [
    "def quickstart():\n",
    "    \n",
    "    # add calls here, remember to indent properly\n",
    "\n",
    "    quickstart()"
   ]
  },
  {
   "cell_type": "code",
   "execution_count": 5,
   "id": "14421282",
   "metadata": {},
   "outputs": [],
   "source": [
    "authoringKey = '2cde43969cde4c70b1612e330e0cadcd'\n",
    "authoringEndpoint = 'https://lasta-authoring.cognitiveservices.azure.com/'\n",
    "predictionKey = '6b8d76e7fde4489cb8c8a2181b365923'\n",
    "predictionEndpoint = 'https://lasta.cognitiveservices.azure.com/'\n",
    "# We use a UUID to avoid name collisions.\n",
    "appName = \"Fly Me Booking Alpha \" + str(uuid.uuid4())\n",
    "versionId = \"1\"\n",
    "\n",
    "\n",
    "client = LUISAuthoringClient(authoringEndpoint, CognitiveServicesCredentials(authoringKey))"
   ]
  },
  {
   "cell_type": "code",
   "execution_count": 113,
   "id": "bd1b6b95",
   "metadata": {},
   "outputs": [
    {
     "name": "stdout",
     "output_type": "stream",
     "text": [
      "Created LUIS app with ID c4cb4b1a-f70d-4575-a4d5-b04c7e1d4812\n"
     ]
    }
   ],
   "source": [
    "# define app basics\n",
    "appDefinition = ApplicationCreateObject (name=appName, initial_version_id=versionId, culture='en-us')\n",
    "\n",
    "# create app\n",
    "app_id = client.apps.add(appDefinition)\n",
    "\n",
    "# get app id - necessary for all other changes\n",
    "print(\"Created LUIS app with ID {}\".format(app_id))"
   ]
  },
  {
   "cell_type": "code",
   "execution_count": 114,
   "id": "7e36396f",
   "metadata": {},
   "outputs": [
    {
     "data": {
      "text/plain": [
       "[<azure.cognitiveservices.language.luis.authoring.models._models_py3.PrebuiltEntityExtractor at 0x21100042e60>]"
      ]
     },
     "execution_count": 114,
     "metadata": {},
     "output_type": "execute_result"
    }
   ],
   "source": [
    "client.model.add_intent(app_id, versionId, intentName)\n",
    "\n",
    "# Add Prebuilt entity\n",
    "client.model.add_prebuilt(app_id, versionId, prebuilt_extractor_names=[\"number\"])"
   ]
  },
  {
   "cell_type": "code",
   "execution_count": 115,
   "id": "aec96e3f",
   "metadata": {},
   "outputs": [],
   "source": [
    "# define machine-learned entity\n",
    "mlEntityDefinition =[\n",
    "\n",
    "        { \"name\": \"or_city\" },\n",
    "        { \"name\": \"dst_city\"},\n",
    "        { \"name\": \"budget\" },\n",
    "        {\"name\" :\"str_date\"},\n",
    "        {\"name\" :\"end_date\"}\n",
    "    ]\n"
   ]
  },
  {
   "cell_type": "code",
   "execution_count": 116,
   "id": "61b0f1b6",
   "metadata": {},
   "outputs": [],
   "source": [
    "# add entity to app\n",
    "modelId = client.model.add_entity(app_id, versionId, name=\"FlyMeBooking\", children=mlEntityDefinition)"
   ]
  },
  {
   "cell_type": "code",
   "execution_count": 117,
   "id": "b02cfe6a",
   "metadata": {},
   "outputs": [
    {
     "data": {
      "text/plain": [
       "'481b7b5b-35e0-48e9-8767-9c2d1e655070'"
      ]
     },
     "execution_count": 117,
     "metadata": {},
     "output_type": "execute_result"
    }
   ],
   "source": [
    "modelId"
   ]
  },
  {
   "cell_type": "markdown",
   "id": "5751ea10",
   "metadata": {},
   "source": [
    "## Add Examples to Train Luis"
   ]
  },
  {
   "cell_type": "code",
   "execution_count": 118,
   "id": "70e87b6e",
   "metadata": {},
   "outputs": [],
   "source": [
    "from time import sleep"
   ]
  },
  {
   "cell_type": "code",
   "execution_count": 119,
   "id": "0fdcf1fe",
   "metadata": {},
   "outputs": [
    {
     "name": "stdout",
     "output_type": "stream",
     "text": [
      "The id doesn't work : 2\n",
      "The id doesn't work : 19\n",
      "The id doesn't work : 21\n",
      "The id doesn't work : 32\n",
      "The id doesn't work : 47\n",
      "The id doesn't work : 129\n",
      "The id doesn't work : 182\n",
      "The id doesn't work : 265\n",
      "The id doesn't work : 310\n",
      "The id doesn't work : 382\n",
      "The id doesn't work : 389\n",
      "The id doesn't work : 425\n",
      "The id doesn't work : 429\n",
      "The id doesn't work : 430\n",
      "The id doesn't work : 456\n",
      "The id doesn't work : 457\n",
      "The id doesn't work : 578\n",
      "The id doesn't work : 583\n",
      "The id doesn't work : 597\n",
      "The id doesn't work : 667\n",
      "The id doesn't work : 692\n",
      "The id doesn't work : 747\n",
      "The id doesn't work : 800\n",
      "The id doesn't work : 826\n",
      "The id doesn't work : 837\n",
      "The id doesn't work : 891\n",
      "The id doesn't work : 949\n",
      "The id doesn't work : 957\n",
      "The id doesn't work : 963\n",
      "The id doesn't work : 1003\n",
      "The id doesn't work : 1017\n",
      "The id doesn't work : 1023\n",
      "The id doesn't work : 1033\n",
      "The id doesn't work : 1047\n",
      "The id doesn't work : 1074\n",
      "The id doesn't work : 1091\n"
     ]
    }
   ],
   "source": [
    "for i in range(0,1100): #80% Train 20% Test\n",
    "    labeledExampleUtteranceWithMLEntity=Json_Luis(dataframe.iloc[i])\n",
    "    \n",
    "    try:\n",
    "        client.examples.add(app_id, versionId, labeledExampleUtteranceWithMLEntity)\n",
    "    except:\n",
    "        print(\"The id doesn't work :\",i)"
   ]
  },
  {
   "cell_type": "markdown",
   "id": "4c17de75",
   "metadata": {},
   "source": [
    "## Training"
   ]
  },
  {
   "cell_type": "code",
   "execution_count": 120,
   "id": "aa5db9fd",
   "metadata": {},
   "outputs": [
    {
     "name": "stdout",
     "output_type": "stream",
     "text": [
      "Waiting 10 seconds for training to complete...\n",
      "Waiting 10 seconds for training to complete...\n",
      "trained\n"
     ]
    }
   ],
   "source": [
    "\n",
    "\n",
    "client.train.train_version(app_id, versionId)\n",
    "waiting = True\n",
    "while waiting:\n",
    "    info = client.train.get_status(app_id, versionId)\n",
    "\n",
    "    # get_status returns a list of training statuses, one for each model. Loop through them and make sure all are done.\n",
    "    waiting = any(map(lambda x: 'Queued' == x.details.status or 'InProgress' == x.details.status, info))\n",
    "    if waiting:\n",
    "        print (\"Waiting 10 seconds for training to complete...\")\n",
    "        time.sleep(10)\n",
    "    else: \n",
    "        print (\"trained\")\n",
    "        waiting = False\n",
    "\n",
    "\n"
   ]
  },
  {
   "cell_type": "code",
   "execution_count": 10,
   "id": "d060c710",
   "metadata": {},
   "outputs": [],
   "source": [
    "app_id=\"c4cb4b1a-f70d-4575-a4d5-b04c7e1d4812\""
   ]
  },
  {
   "cell_type": "markdown",
   "id": "f530ac65",
   "metadata": {},
   "source": [
    "## Predict"
   ]
  },
  {
   "cell_type": "code",
   "execution_count": 11,
   "id": "adb4d25d",
   "metadata": {},
   "outputs": [
    {
     "name": "stdout",
     "output_type": "stream",
     "text": [
      "Top intent: FlyMe\n",
      "Sentiment: {'additional_properties': {}, 'label': 'positive', 'score': 0.9538003}\n",
      "Intents: \n",
      "\t\"FlyMe\"\n",
      "Entities: {'FlyMeBooking': [{'or_city': ['Paris'], 'dst_city': ['Marseille'], 'budget': ['300']}], 'number': [300]}\n"
     ]
    }
   ],
   "source": [
    "\n",
    "# Mark the app as public so we can query it using any prediction endpoint.\n",
    "# Note: For production scenarios, you should instead assign the app to your own LUIS prediction endpoint. See:\n",
    "# https://docs.microsoft.com/en-gb/azure/cognitive-services/luis/luis-how-to-azure-subscription#assign-a-resource-to-an-app\n",
    "client.apps.update_settings(app_id, is_public=True)\n",
    "\n",
    "responseEndpointInfo = client.apps.publish(app_id, versionId, is_staging=False)\n",
    "\n",
    "\n",
    "runtimeCredentials = CognitiveServicesCredentials(predictionKey)\n",
    "clientRuntime = LUISRuntimeClient(endpoint=predictionEndpoint, credentials=runtimeCredentials)\n",
    "\n",
    "\n",
    "# Production == slot name\n",
    "predictionRequest = { \"query\" : \"Hello i would like to book a flight from Paris to Marseille with 300$ budget\" }\n",
    "\n",
    "#result = clientRuntime.prediction.resolve(app_id, \"Production\", predictionRequest)\n",
    "predictionResponse = clientRuntime.prediction.get_slot_prediction(app_id, \"Production\", predictionRequest)\n",
    "print(\"Top intent: {}\".format(predictionResponse.prediction.top_intent))\n",
    "print(\"Sentiment: {}\".format (predictionResponse.prediction.sentiment))\n",
    "print(\"Intents: \")\n",
    "#print('score:'.format(result.top_scoring_intent.intent))\n",
    "\n",
    "for intent in predictionResponse.prediction.intents:\n",
    "    print(\"\\t{}\".format (json.dumps (intent)))\n",
    "print(\"Entities: {}\".format (predictionResponse.prediction.entities))"
   ]
  },
  {
   "cell_type": "markdown",
   "id": "6743455b",
   "metadata": {},
   "source": [
    "## Scoring"
   ]
  },
  {
   "cell_type": "code",
   "execution_count": 122,
   "id": "c8e23770",
   "metadata": {},
   "outputs": [],
   "source": [
    "bad_list=[1101,1106,1119,1126,1135,1140,1166,1167,1180,1190,1194,1205,1207,1208,1229,1243,1250,1254,1257,1265,1273,1275,1276,1281,1283,1285,1289,1320,1325]"
   ]
  },
  {
   "cell_type": "code",
   "execution_count": 144,
   "id": "9f696a81",
   "metadata": {},
   "outputs": [
    {
     "data": {
      "text/plain": [
       "266"
      ]
     },
     "execution_count": 144,
     "metadata": {},
     "output_type": "execute_result"
    }
   ],
   "source": [
    "merge=[]\n",
    "\n",
    "for i in range(1100,1366): #20% test\n",
    "    if i not in bad_list:\n",
    "        merge.append(Json_Luis(dataframe.iloc[i]))\n"
   ]
  },
  {
   "cell_type": "code",
   "execution_count": 124,
   "id": "e5e93132",
   "metadata": {},
   "outputs": [],
   "source": [
    "with open('test.json', 'w') as outfile:\n",
    "     json.dump(merge, outfile, indent = 4,\n",
    "               ensure_ascii = False)"
   ]
  },
  {
   "cell_type": "code",
   "execution_count": 182,
   "id": "440b79ec",
   "metadata": {},
   "outputs": [
    {
     "name": "stdout",
     "output_type": "stream",
     "text": [
      "0.9538003\n"
     ]
    }
   ],
   "source": [
    "print(predictionResponse.prediction.sentiment.score)"
   ]
  },
  {
   "cell_type": "code",
   "execution_count": 183,
   "id": "6c73b9c3",
   "metadata": {},
   "outputs": [
    {
     "name": "stdout",
     "output_type": "stream",
     "text": [
      "Le sentiment global sur le fichier test est: 0.5612352958533835\n"
     ]
    }
   ],
   "source": [
    "score=0\n",
    "count=0\n",
    "x=0\n",
    "for i in range(1100,1366): #20% test\n",
    "\n",
    "\n",
    "# Production == slot name\n",
    "    predictionRequest = { \"query\" : dataframe.iloc[i].text }\n",
    "    \n",
    "#result = clientRuntime.prediction.resolve(app_id, \"Production\", predictionRequest)\n",
    "    predictionResponse = clientRuntime.prediction.get_slot_prediction(app_id, \"Production\", predictionRequest)\n",
    "    x=predictionResponse.prediction.sentiment.score\n",
    "    count=count+x\n",
    "score=count/266\n",
    "print('Le sentiment global sur le fichier test est:',score)\n",
    "    \n",
    "\n",
    "    "
   ]
  },
  {
   "cell_type": "code",
   "execution_count": 176,
   "id": "2f69fa5a",
   "metadata": {},
   "outputs": [
    {
     "name": "stdout",
     "output_type": "stream",
     "text": [
      "Le score global sur le fichier test est : 0.99972277481203\n"
     ]
    }
   ],
   "source": [
    "score=0\n",
    "count=0\n",
    "x=0\n",
    "for i in range(1100,1366):\n",
    "    utterance = dataframe.iloc[i].text\n",
    "    ##########\n",
    "\n",
    "    # The headers to use in this REST call.\n",
    "    headers = {\n",
    "    }\n",
    "\n",
    "    # The URL parameters to use in this REST call.\n",
    "    params ={\n",
    "        'query': utterance,\n",
    "        \n",
    "        'subscription-key': predictionKey\n",
    "    }\n",
    "\n",
    "\n",
    "    # Make the REST call.\n",
    "    response = requests.get(f'{predictionEndpoint}luis/prediction/v3.0/apps/{app_id}/slots/production/predict', headers=headers, params=params)\n",
    "\n",
    "    # Display the results on the console.\n",
    "    rep=response.json()\n",
    "    x=rep['prediction']['intents']['FlyMe']['score']\n",
    "    count=count+x\n",
    "score=count/266\n",
    "print('Le score global sur le fichier test est :',score)"
   ]
  }
 ],
 "metadata": {
  "kernelspec": {
   "display_name": "Python 3",
   "language": "python",
   "name": "python3"
  },
  "language_info": {
   "codemirror_mode": {
    "name": "ipython",
    "version": 3
   },
   "file_extension": ".py",
   "mimetype": "text/x-python",
   "name": "python",
   "nbconvert_exporter": "python",
   "pygments_lexer": "ipython3",
   "version": "3.10.0"
  }
 },
 "nbformat": 4,
 "nbformat_minor": 5
}
